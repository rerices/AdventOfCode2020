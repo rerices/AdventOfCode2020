{
 "cells": [
  {
   "cell_type": "markdown",
   "metadata": {},
   "source": [
    "# Advent of Code 2020"
   ]
  },
  {
   "cell_type": "markdown",
   "metadata": {},
   "source": [
    "https://adventofcode.com/2020/day/4"
   ]
  },
  {
   "cell_type": "markdown",
   "metadata": {},
   "source": [
    "## Day 4"
   ]
  },
  {
   "cell_type": "code",
   "execution_count": 1,
   "metadata": {},
   "outputs": [],
   "source": [
    "import re"
   ]
  },
  {
   "cell_type": "code",
   "execution_count": 2,
   "metadata": {},
   "outputs": [],
   "source": [
    "with open('data/advent_input4.txt') as file:\n",
    "    passports = file.read().split('\\n\\n')"
   ]
  },
  {
   "cell_type": "markdown",
   "metadata": {},
   "source": [
    "### Part 1"
   ]
  },
  {
   "cell_type": "code",
   "execution_count": 3,
   "metadata": {},
   "outputs": [
    {
     "data": {
      "text/plain": [
       "208"
      ]
     },
     "execution_count": 3,
     "metadata": {},
     "output_type": "execute_result"
    }
   ],
   "source": [
    "sum([len(re.findall('(?<!cid):', p)) >= 7 for p in passports])"
   ]
  },
  {
   "cell_type": "markdown",
   "metadata": {},
   "source": [
    "### Part 2"
   ]
  },
  {
   "cell_type": "code",
   "execution_count": 4,
   "metadata": {},
   "outputs": [],
   "source": [
    "def check_field(key, value):\n",
    "    if (key == 'byr'):\n",
    "        if not (int(value) >= 1920)&(int(value) <= 2002): \n",
    "            return False\n",
    "    elif key == 'iyr':\n",
    "        if not (int(value) >= 2010)&(int(value) <= 2020): \n",
    "            return False\n",
    "    elif key == 'eyr':\n",
    "         if not (int(value) >= 2020)&(int(value) <= 2030): \n",
    "            return False\n",
    "    elif key == 'hgt':\n",
    "        try:\n",
    "            uom=value[-2:]\n",
    "            h=int(value[:-2])\n",
    "        except:\n",
    "            return False\n",
    "        if uom == 'cm':\n",
    "            return h>=150 and h<=193\n",
    "        elif uom == 'in':\n",
    "            return h>=59 and h<=76\n",
    "        return False\n",
    "\n",
    "    elif key == 'hcl':\n",
    "        if not re.search('^#[a-f0-9]{6}$', value):\n",
    "            return False\n",
    "    elif key == 'ecl':\n",
    "        if not (value in ('amb', 'blu', 'brn', 'gry', 'grn', 'hzl', 'oth')):\n",
    "            return False\n",
    "    elif key == 'pid':\n",
    "        if not (len(value) == 9):\n",
    "            return False\n",
    "        if not re.search('^[0-9]{9}$', value):\n",
    "            return False\n",
    "    return True"
   ]
  },
  {
   "cell_type": "code",
   "execution_count": 5,
   "metadata": {},
   "outputs": [
    {
     "data": {
      "text/plain": [
       "172"
      ]
     },
     "execution_count": 5,
     "metadata": {},
     "output_type": "execute_result"
    }
   ],
   "source": [
    "sum([sum([check_field(k,v) for (k,v) in re.findall('(\\w{3}):(\\S+)', np)]) >= 7 for np in [p for p in passports if len(re.findall('(?<!cid):', p)) >= 7]])"
   ]
  }
 ],
 "metadata": {
  "kernelspec": {
   "display_name": "py39",
   "language": "python",
   "name": "py39"
  },
  "language_info": {
   "codemirror_mode": {
    "name": "ipython",
    "version": 3
   },
   "file_extension": ".py",
   "mimetype": "text/x-python",
   "name": "python",
   "nbconvert_exporter": "python",
   "pygments_lexer": "ipython3",
   "version": "3.9.1"
  }
 },
 "nbformat": 4,
 "nbformat_minor": 4
}
