{
 "cells": [
  {
   "cell_type": "markdown",
   "metadata": {},
   "source": [
    "# Advent of Code 2020"
   ]
  },
  {
   "cell_type": "markdown",
   "metadata": {},
   "source": [
    "https://adventofcode.com/2020/day/2"
   ]
  },
  {
   "cell_type": "markdown",
   "metadata": {},
   "source": [
    "## Day 2"
   ]
  },
  {
   "cell_type": "code",
   "execution_count": 1,
   "metadata": {},
   "outputs": [],
   "source": [
    "from collections import Counter"
   ]
  },
  {
   "cell_type": "code",
   "execution_count": 3,
   "metadata": {},
   "outputs": [],
   "source": [
    "with open('data/advent_input2.txt') as file:\n",
    "    data = file.read().split('\\n')"
   ]
  },
  {
   "cell_type": "code",
   "execution_count": 5,
   "metadata": {},
   "outputs": [],
   "source": [
    "valid_passwords = 0\n",
    "for instance in data:\n",
    "    parts = instance.split(' ')\n",
    "    min_p = int(parts[0].split('-')[0])\n",
    "    max_p = int(parts[0].split('-')[1])\n",
    "    letter = parts[1][0]\n",
    "    password = parts[2]\n",
    "    count = Counter(password)[letter]\n",
    "    if (count >= min_p)&(count <= max_p):\n",
    "        valid_passwords += 1"
   ]
  },
  {
   "cell_type": "code",
   "execution_count": 6,
   "metadata": {},
   "outputs": [
    {
     "data": {
      "text/plain": [
       "460"
      ]
     },
     "execution_count": 6,
     "metadata": {},
     "output_type": "execute_result"
    }
   ],
   "source": [
    "valid_passwords"
   ]
  },
  {
   "cell_type": "code",
   "execution_count": 82,
   "metadata": {},
   "outputs": [],
   "source": [
    "valid_passwords = 0\n",
    "for instance in inputs:\n",
    "    parts = instance.split(' ')\n",
    "    min_p = int(parts[0].split('-')[0])\n",
    "    max_p = int(parts[0].split('-')[1])\n",
    "    letter = parts[1][0]\n",
    "    password = parts[2]\n",
    "    first = password[min_p-1]\n",
    "    second = password[max_p-1]\n",
    "\n",
    "    if ((password[min_p-1] == letter)*1) + ((password[max_p-1] == letter)*1) == 1:\n",
    "        valid_passwords += 1"
   ]
  },
  {
   "cell_type": "code",
   "execution_count": null,
   "metadata": {},
   "outputs": [],
   "source": [
    "valid_passwords"
   ]
  }
 ],
 "metadata": {
  "kernelspec": {
   "display_name": "py39",
   "language": "python",
   "name": "py39"
  },
  "language_info": {
   "codemirror_mode": {
    "name": "ipython",
    "version": 3
   },
   "file_extension": ".py",
   "mimetype": "text/x-python",
   "name": "python",
   "nbconvert_exporter": "python",
   "pygments_lexer": "ipython3",
   "version": "3.9.1"
  }
 },
 "nbformat": 4,
 "nbformat_minor": 4
}
